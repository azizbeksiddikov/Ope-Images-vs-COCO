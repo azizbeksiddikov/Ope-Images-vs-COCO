{
 "cells": [
  {
   "cell_type": "code",
   "execution_count": 9,
   "metadata": {},
   "outputs": [],
   "source": [
    "from ultralytics import YOLO\n",
    "\n",
    "# Load an Open Images Dataset V7 pretrained YOLOv8n model\n",
    "# put any model you want\n",
    "yolo_model = YOLO(\"models/yolov8l-oiv7.pt\")\n",
    "\n",
    "# Load a COCO8 model\n",
    "coco_model = YOLO(\"models/yolo11l.pt\")\n"
   ]
  },
  {
   "cell_type": "code",
   "execution_count": null,
   "metadata": {},
   "outputs": [],
   "source": [
    "source_media = \"data/videos/Students play on new playground for first day of school.mp4\""
   ]
  },
  {
   "cell_type": "code",
   "execution_count": null,
   "metadata": {},
   "outputs": [],
   "source": [
    "# Run prediction\n",
    "yolo_results = yolo_model.predict(source=source_media, show=True, save=True)\n",
    "\n",
    "# Start training from the pretrained checkpoint\n"
   ]
  },
  {
   "cell_type": "code",
   "execution_count": null,
   "metadata": {},
   "outputs": [],
   "source": [
    "# Run prediction\n",
    "coco_results = coco_model.predict(source=source_media, show=True, save=True)\n",
    "\n",
    "# Start training from the pretrained checkpoint\n"
   ]
  },
  {
   "cell_type": "code",
   "execution_count": null,
   "metadata": {},
   "outputs": [],
   "source": []
  }
 ],
 "metadata": {
  "kernelspec": {
   "display_name": "lpr_env",
   "language": "python",
   "name": "python3"
  },
  "language_info": {
   "codemirror_mode": {
    "name": "ipython",
    "version": 3
   },
   "file_extension": ".py",
   "mimetype": "text/x-python",
   "name": "python",
   "nbconvert_exporter": "python",
   "pygments_lexer": "ipython3",
   "version": "3.11.10"
  }
 },
 "nbformat": 4,
 "nbformat_minor": 2
}
